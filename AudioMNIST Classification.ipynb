{
 "cells": [
  {
   "cell_type": "markdown",
   "id": "33cb98ba-cb74-4ec9-9f31-cc0df504eb88",
   "metadata": {},
   "source": [
    "# [AudioMNIST](https://github.com/soerenab/AudioMNIST/tree/master/data) Classification\n",
    "\n",
    "This is a simple idea and implement that feeds a convolution network with spectral of reconstruction signal from audio signal's empirical decomposition for classification, which basically filters the low-frequency components adaptively for reducing the tone variance, while staying the pronunciation features to get an easy fit and better performance. It took 5 epochs and got 95% accuracy during several experiments."
   ]
  },
  {
   "cell_type": "markdown",
   "id": "a8a602ab-2ae4-480d-91e4-fac25346c856",
   "metadata": {},
   "source": [
    "**References:**\n",
    "1. [Interpreting and Explaining Deep Neural Networks for Classification of Audio Signals. S. Becker, M. Ackermann, S. Lapuschkin, K.R. Müller, and S. Wojciech. ArXiV preprint. 2018](https://arxiv.org/abs/1807.03418)\n",
    "2. [Audio Deep Learning Made Simple: Sound Classification, Step-by-Step, K. Doshi. Towards Data Science. 2021.](https://towardsdatascience.com/audio-deep-learning-made-simple-sound-classification-step-by-step-cebc936bbe5)\n",
    "3. [Audio MNIST Classification, Kyle R. Chickering](https://www.kaggle.com/code/kyrobc/audio-mnist-classifier-with-98-accuracy-15-min/notebook)"
   ]
  },
  {
   "cell_type": "code",
   "execution_count": 17,
   "id": "212b3d0e-5ea4-4f2e-807d-986aef1210ac",
   "metadata": {},
   "outputs": [],
   "source": [
    "import matplotlib.pyplot as plt\n",
    "import scipy as sp\n",
    "import numpy as np\n",
    "import pandas as pd\n",
    "from scipy.io import wavfile as wv\n",
    "import torch\n",
    "import torch.nn as nn\n",
    "import emd\n",
    "from tqdm import tqdm\n",
    "DATAPATH = './data/'"
   ]
  },
  {
   "cell_type": "code",
   "execution_count": 18,
   "id": "0663d9a4-8369-41ad-a843-d01648047ca9",
   "metadata": {},
   "outputs": [],
   "source": [
    "device = 'cuda:0' if torch.cuda.is_available() else 'cpu'"
   ]
  },
  {
   "cell_type": "markdown",
   "id": "b3668003-a013-421e-848a-763cba8c2160",
   "metadata": {},
   "source": [
    "#### Loading the Data into a Torch Tensor\n",
    "All of the samples are sampled at 48kHZ, and the samples are all less than one second. We load the data into one second intervals and pad the difference with leading silence."
   ]
  },
  {
   "cell_type": "code",
   "execution_count": 3,
   "id": "9e6bf9b6-f91e-4bf6-8c48-2033c2024cf4",
   "metadata": {},
   "outputs": [],
   "source": [
    "def load_audio_MNIST(n_speakers=60):\n",
    "    \"\"\" Build a dataframe out of the .wav files. \"\"\"\n",
    "    if n_speakers > 60:\n",
    "        raise Exception(\"Only 60 speakers\")\n",
    "        \n",
    "    X = torch.zeros(50 * n_speakers * 10, 48000)\n",
    "    y = torch.zeros(50 * n_speakers * 10, 10)\n",
    "    \n",
    "    sample = 0\n",
    "    for ii in range(1, n_speakers + 1):\n",
    "        num = \"0%d\" % ii if ii < 10 else \"%d\" % ii\n",
    "        \n",
    "        for jj in range(50):\n",
    "            for kk in range(10):\n",
    "                _, audio = wv.read(DATAPATH + num + \"/%d_%s_%d.wav\" % (kk, num, jj))\n",
    "                audio = torch.Tensor(audio)\n",
    "                X[sample, -audio.shape[0]:] = audio / torch.max(torch.abs(audio))\n",
    "                y[sample, kk] = 1 # the number spoken\n",
    "                sample += 1\n",
    "\n",
    "    return X, y"
   ]
  },
  {
   "cell_type": "markdown",
   "id": "329de5cd-01ca-4084-ad36-12e435eff1fe",
   "metadata": {},
   "source": [
    "#### Preprocessing Pipeline\n",
    "We firstly reconstruct the original signal from low index modes of empirical decomposition.\n",
    "\n",
    "Then we are going to build 2D sepctrograms from the 1D audio channel, and then use a 2D CNN to learn from these spectrograms."
   ]
  },
  {
   "cell_type": "code",
   "execution_count": 4,
   "id": "3ee3ac72-7b7b-466d-91a6-66e3c0d1f74e",
   "metadata": {},
   "outputs": [],
   "source": [
    "import random\n",
    "import torchaudio\n",
    "from torchaudio import transforms\n",
    "\n",
    "class AudioHandler():\n",
    "    @staticmethod\n",
    "    def open(file_path):\n",
    "        # throw away sample rate since it is a constant\n",
    "        # signal, _ = torchaudio.load(file_path)\n",
    "        fs, signal = sp.io.wavfile.read(file_path)\n",
    "        # decomposition\n",
    "        imf = emd.sift.sift(signal)\n",
    "        # Reconstruction\n",
    "        signal = np.sum(imf[:, :-4], axis=1)\n",
    "        return torch.tensor(signal).reshape(1, -1)\n",
    "    \n",
    "    @staticmethod\n",
    "    def pad(signal, audio_length):\n",
    "        new_signal = torch.zeros((1, audio_length))\n",
    "        new_signal[0, 48000 - len(signal):] = signal\n",
    "        \n",
    "        return new_signal\n",
    "    \n",
    "    @staticmethod\n",
    "    def time_shift(signal, shift_limit):\n",
    "        \"\"\" Data augmentation: shift forward or back by a bit. \"\"\"\n",
    "        signal_length = signal.shape[1]\n",
    "        shift = int(random.random() * shift_limit * signal_length)\n",
    "        return signal.roll(shift)\n",
    "    \n",
    "    @staticmethod\n",
    "    def spectrogram(signal, n_mels=64, n_fft=2034, hop_len=None):\n",
    "        top_db = 80\n",
    "        \n",
    "        spec = transforms.MelSpectrogram(48000, n_fft=n_fft, \n",
    "                                        hop_length=hop_len, \n",
    "                                        n_mels=n_mels)(signal)\n",
    "        spec = transforms.AmplitudeToDB(top_db=top_db)(torch.Tensor(spec))\n",
    "        \n",
    "        return spec\n",
    "    \n",
    "    @staticmethod\n",
    "    def spectral_augmentation(spec, max_mask_ptc=0.1, \n",
    "                              n_freq_masks=1, \n",
    "                              n_time_masks=1):\n",
    "        \"\"\" Augment the spectrogram data. \"\"\"\n",
    "        _, n_mels, n_steps = spec.shape\n",
    "        mask_value = spec.mean()\n",
    "        aug_spec = spec\n",
    "        \n",
    "        freq_mask_param = max_mask_ptc * n_mels\n",
    "        for _ in range(n_freq_masks):\n",
    "            aug_spec = transforms.FrequencyMasking(\n",
    "                freq_mask_param\n",
    "            )(aug_spec, mask_value)\n",
    "            \n",
    "        time_mask_param = max_mask_ptc * n_steps\n",
    "        for _ in range(n_time_masks):\n",
    "            aug_spec = transforms.TimeMasking(\n",
    "                time_mask_param\n",
    "            )(aug_spec, mask_value)\n",
    "            \n",
    "        return aug_spec"
   ]
  },
  {
   "cell_type": "markdown",
   "id": "81519690-1a40-43c8-a598-ac553a01391f",
   "metadata": {},
   "source": [
    "#### Constructing the DataSet and DataLoader\n",
    "The dataset is fairly large and it is actaually more convinent to not store the entire dataset in memory (at least on Kaggle). Instead we create an indexed dictionary of the filenames and load only a batch at a time into memory.\n",
    "\n",
    "When we create the dataloaders we will use multiple workers which will speed up training since each bactch will be loaded prior to training beginning."
   ]
  },
  {
   "cell_type": "code",
   "execution_count": 5,
   "id": "78d21c10-d7f4-49ea-9e59-310ed94c8502",
   "metadata": {},
   "outputs": [],
   "source": [
    "from torch.utils.data import DataLoader, Dataset, random_split\n",
    "\n",
    "class AudioMNIST(Dataset):\n",
    "    def __init__(self, load_entire_filetree=False):\n",
    "        self.files = self._build_files()\n",
    "        self.audio_len = 48000\n",
    "        self.shift_ptc = 0.4\n",
    "        \n",
    "    def _build_files(self):\n",
    "        files = {}\n",
    "        index = 0\n",
    "        for ii in range(1, 61):\n",
    "            num = \"0%d\" % ii if ii < 10 else \"%d\" % ii\n",
    "            for jj in range(50):\n",
    "                for kk in range(10):\n",
    "                    files[index] = [\n",
    "                        DATAPATH + num + \"/%d_%s_%d.wav\" % (\n",
    "                            kk, num, jj),\n",
    "                        kk\n",
    "                    ]\n",
    "                    index += 1\n",
    "                    \n",
    "        return files\n",
    "    \n",
    "    def __len__(self):\n",
    "        return 30000\n",
    "    \n",
    "    def __getitem__(self, idx):\n",
    "        signal = AudioHandler.open(self.files[idx][0])[0]\n",
    "        pad = AudioHandler.pad(signal, self.audio_len)\n",
    "        shift = AudioHandler.time_shift(pad, self.shift_ptc)\n",
    "        sgram = AudioHandler.spectrogram(\n",
    "            shift, n_mels=64, n_fft=1024, hop_len=None\n",
    "        )\n",
    "        aug_sgram = AudioHandler.spectral_augmentation(\n",
    "            sgram, max_mask_ptc=0.1, n_freq_masks=2, n_time_masks=2\n",
    "        )\n",
    "        \n",
    "        return aug_sgram, self.files[idx][1]"
   ]
  },
  {
   "cell_type": "code",
   "execution_count": 6,
   "id": "f34e229f-f0af-4ec8-bfa4-0e26a6c998ea",
   "metadata": {},
   "outputs": [],
   "source": [
    "dataset = AudioMNIST()"
   ]
  },
  {
   "cell_type": "code",
   "execution_count": 7,
   "id": "ed5c4a5c-fb6b-4fb0-a848-30b42114c24f",
   "metadata": {},
   "outputs": [],
   "source": [
    "n_items = len(dataset)\n",
    "n_train = round(n_items * 0.8)\n",
    "n_val_test = n_items - n_train\n",
    "train_ds, val_test_ds = random_split(dataset, [n_train, n_val_test])\n",
    "\n",
    "n_val = round(n_val_test * 0.6)\n",
    "n_test = n_val_test - n_val\n",
    "val_ds, test_ds = random_split(val_test_ds, [n_val, n_test])\n",
    "\n",
    "train_dl = torch.utils.data.DataLoader(\n",
    "    train_ds, batch_size=64, shuffle=True, num_workers=2\n",
    ")\n",
    "\n",
    "val_dl = torch.utils.data.DataLoader(\n",
    "    val_ds, batch_size=64, shuffle=False, num_workers=2\n",
    ")\n",
    "\n",
    "test_dl = torch.utils.data.DataLoader(\n",
    "    test_ds, batch_size=32, shuffle=False, num_workers=2\n",
    ")"
   ]
  },
  {
   "cell_type": "code",
   "execution_count": 8,
   "id": "bfd52610-5ef3-4147-86ea-20cfe1b184a2",
   "metadata": {},
   "outputs": [],
   "source": [
    "import torch.nn as nn\n",
    "\n",
    "class CNN2DAudioClassifier(nn.Module):\n",
    "    def __init__(self):\n",
    "        super().__init__()\n",
    "        self.conv_layers = []\n",
    "        \n",
    "        def build_conv_layer(in_d, out_d, ks, stride, pad):\n",
    "            conv1 = nn.Conv2d(in_d, out_d, \n",
    "                              kernel_size=(ks, ks), \n",
    "                              stride=(stride, stride), \n",
    "                              padding=(pad, pad))\n",
    "            relu1 = nn.ReLU()\n",
    "            bn1 = nn.BatchNorm2d(out_d)\n",
    "            nn.init.kaiming_normal_(conv1.weight, a=0.1)\n",
    "            conv1.bias.data.zero_()\n",
    "            return [conv1, relu1, bn1]\n",
    "        \n",
    "        self.conv_layers += build_conv_layer(1, 8, 5, 2, 2)\n",
    "        self.conv_layers += build_conv_layer(8, 16, 3, 2, 1)\n",
    "        self.conv_layers += build_conv_layer(16, 32, 3, 2, 1)\n",
    "        self.conv_layers += build_conv_layer(32, 64, 3, 2, 1)\n",
    "        \n",
    "        self.ap = nn.AdaptiveAvgPool2d(output_size=1)\n",
    "        self.lin = nn.Linear(in_features=64, out_features=10)\n",
    "        \n",
    "        self.conv = nn.Sequential(*self.conv_layers)\n",
    "        \n",
    "    def forward(self, x):\n",
    "        x = self.conv(x)\n",
    "        \n",
    "        x = self.ap(x)\n",
    "        x = x.view(x.shape[0], -1)\n",
    "        \n",
    "        return self.lin(x)"
   ]
  },
  {
   "cell_type": "code",
   "execution_count": 9,
   "id": "b1f2539b-7991-49d4-b68e-31b377b9dafb",
   "metadata": {},
   "outputs": [],
   "source": [
    "def evaluate(model, val_dl): \n",
    "    running_loss = 0.0\n",
    "    correct_prediction = 0\n",
    "    total_prediction = 0\n",
    "        \n",
    "    for data in tqdm(val_dl):\n",
    "        inputs, labels = data[0].to(device), data[1].to(device)\n",
    "\n",
    "        inputs_m, inputs_s = inputs.mean(), inputs.std()\n",
    "        inputs = (inputs - inputs_m) / inputs_s\n",
    "\n",
    "        optimizer.zero_grad()\n",
    "\n",
    "        outputs = model(inputs.to(device))\n",
    "        loss = criterion(outputs, labels.to(device))\n",
    "\n",
    "        running_loss += loss.item()\n",
    "\n",
    "        _, prediction = torch.max(outputs, 1)\n",
    "        correct_prediction += (prediction == labels).sum().item()\n",
    "        total_prediction += prediction.shape[0]\n",
    "\n",
    "    num_batches = len(val_dl)\n",
    "    avg_loss = running_loss / num_batches\n",
    "    acc = correct_prediction / total_prediction\n",
    "\n",
    "    return acc, avg_loss"
   ]
  },
  {
   "cell_type": "code",
   "execution_count": 10,
   "id": "db99ca53-bccd-4423-bf4e-ffd37d2b3451",
   "metadata": {},
   "outputs": [],
   "source": [
    "def training(model, train_dl, val_dl, num_epochs, \n",
    "             criterion, optimizer, scheduler):\n",
    "    losses = []\n",
    "    val_losses = []\n",
    "    for epoch in range(num_epochs):\n",
    "        running_loss = 0.0\n",
    "        correct_prediction = 0\n",
    "        total_prediction = 0\n",
    "        \n",
    "        for data in tqdm(train_dl):\n",
    "            inputs, labels = data[0].to(device), data[1].to(device)\n",
    "            \n",
    "            inputs_m, inputs_s = inputs.mean(), inputs.std()\n",
    "            inputs = (inputs - inputs_m) / inputs_s\n",
    "            \n",
    "            optimizer.zero_grad()\n",
    "            \n",
    "            outputs = model(inputs.to(device))\n",
    "            loss = criterion(outputs, labels.to(device))\n",
    "            loss.backward()\n",
    "            optimizer.step()\n",
    "            scheduler.step()\n",
    "            \n",
    "            running_loss += loss.item()\n",
    "            \n",
    "            _, prediction = torch.max(outputs, 1)\n",
    "            correct_prediction += (prediction == labels).sum().item()\n",
    "            total_prediction += prediction.shape[0]\n",
    "            \n",
    "        num_batches = len(train_dl)\n",
    "        avg_loss = running_loss / num_batches\n",
    "        acc = correct_prediction / total_prediction\n",
    "        \n",
    "        v_acc, v_loss = evaluate(model.to(device), val_dl)\n",
    "        \n",
    "        print(\"Epoch: %d, Loss: %.4f, Train Accuracy: %.2f, Val. Loss: %.4f, Val. Accuracy: %.2f\" % (\n",
    "            epoch + 1, avg_loss, acc, v_loss, v_acc\n",
    "        ))\n",
    "        \n",
    "        losses.append(avg_loss)\n",
    "        val_losses.append(v_loss)\n",
    "        \n",
    "    return losses, val_losses"
   ]
  },
  {
   "cell_type": "markdown",
   "id": "917442fc-c962-4f98-ad8c-74caa0f76656",
   "metadata": {},
   "source": [
    "#### Training "
   ]
  },
  {
   "cell_type": "code",
   "execution_count": 11,
   "id": "3e5cdda7-70fe-4b1c-a89b-7bb843c6e8e8",
   "metadata": {},
   "outputs": [],
   "source": [
    "model = CNN2DAudioClassifier().to(device)"
   ]
  },
  {
   "cell_type": "code",
   "execution_count": 12,
   "id": "6ace4dfa-d3d5-429c-8352-8fc67662767c",
   "metadata": {},
   "outputs": [],
   "source": [
    "N_EPOCHS = 5\n",
    "\n",
    "criterion = nn.CrossEntropyLoss()\n",
    "optimizer = torch.optim.Adam(model.parameters(), lr=0.001)\n",
    "scheduler = torch.optim.lr_scheduler.OneCycleLR(optimizer, \n",
    "                                                max_lr=0.001, \n",
    "                                                steps_per_epoch=int(len(train_dl)), \n",
    "                                                epochs=N_EPOCHS, \n",
    "                                                anneal_strategy='linear')"
   ]
  },
  {
   "cell_type": "code",
   "execution_count": 13,
   "id": "d31f81a8-4e51-411c-8292-47436cc65e40",
   "metadata": {},
   "outputs": [
    {
     "name": "stderr",
     "output_type": "stream",
     "text": [
      "100%|███████████████████████████████████████████████████████████████████████████████████████████████████████████████████████████████████████████████████| 375/375 [18:06<00:00,  2.90s/it]\n",
      "100%|█████████████████████████████████████████████████████████████████████████████████████████████████████████████████████████████████████████████████████| 57/57 [02:44<00:00,  2.89s/it]\n"
     ]
    },
    {
     "name": "stdout",
     "output_type": "stream",
     "text": [
      "Epoch: 1, Loss: 1.9438, Train Accuracy: 0.35, Val. Loss: 1.3835, Val. Accuracy: 0.60\n"
     ]
    },
    {
     "name": "stderr",
     "output_type": "stream",
     "text": [
      "100%|███████████████████████████████████████████████████████████████████████████████████████████████████████████████████████████████████████████████████| 375/375 [18:06<00:00,  2.90s/it]\n",
      "100%|█████████████████████████████████████████████████████████████████████████████████████████████████████████████████████████████████████████████████████| 57/57 [02:42<00:00,  2.86s/it]\n"
     ]
    },
    {
     "name": "stdout",
     "output_type": "stream",
     "text": [
      "Epoch: 2, Loss: 0.8085, Train Accuracy: 0.79, Val. Loss: 0.4283, Val. Accuracy: 0.90\n"
     ]
    },
    {
     "name": "stderr",
     "output_type": "stream",
     "text": [
      "100%|███████████████████████████████████████████████████████████████████████████████████████████████████████████████████████████████████████████████████| 375/375 [18:03<00:00,  2.89s/it]\n",
      "100%|█████████████████████████████████████████████████████████████████████████████████████████████████████████████████████████████████████████████████████| 57/57 [02:42<00:00,  2.86s/it]\n"
     ]
    },
    {
     "name": "stdout",
     "output_type": "stream",
     "text": [
      "Epoch: 3, Loss: 0.3122, Train Accuracy: 0.93, Val. Loss: 0.2384, Val. Accuracy: 0.95\n"
     ]
    },
    {
     "name": "stderr",
     "output_type": "stream",
     "text": [
      "100%|███████████████████████████████████████████████████████████████████████████████████████████████████████████████████████████████████████████████████| 375/375 [18:05<00:00,  2.89s/it]\n",
      "100%|█████████████████████████████████████████████████████████████████████████████████████████████████████████████████████████████████████████████████████| 57/57 [02:42<00:00,  2.84s/it]\n"
     ]
    },
    {
     "name": "stdout",
     "output_type": "stream",
     "text": [
      "Epoch: 4, Loss: 0.2037, Train Accuracy: 0.95, Val. Loss: 0.1915, Val. Accuracy: 0.96\n"
     ]
    },
    {
     "name": "stderr",
     "output_type": "stream",
     "text": [
      "100%|███████████████████████████████████████████████████████████████████████████████████████████████████████████████████████████████████████████████████| 375/375 [18:00<00:00,  2.88s/it]\n",
      "100%|█████████████████████████████████████████████████████████████████████████████████████████████████████████████████████████████████████████████████████| 57/57 [02:41<00:00,  2.83s/it]"
     ]
    },
    {
     "name": "stdout",
     "output_type": "stream",
     "text": [
      "Epoch: 5, Loss: 0.1727, Train Accuracy: 0.96, Val. Loss: 0.1687, Val. Accuracy: 0.96\n"
     ]
    },
    {
     "name": "stderr",
     "output_type": "stream",
     "text": [
      "\n"
     ]
    }
   ],
   "source": [
    "losses, val_losses = training(model, train_dl, val_dl, N_EPOCHS, criterion, optimizer, scheduler)"
   ]
  },
  {
   "cell_type": "code",
   "execution_count": 14,
   "id": "783ef21c-f644-4b8f-921a-3c5f035b9034",
   "metadata": {},
   "outputs": [
    {
     "name": "stderr",
     "output_type": "stream",
     "text": [
      "100%|█████████████████████████████████████████████████████████████████████████████████████████████████████████████████████████████████████████████████████| 57/57 [02:42<00:00,  2.86s/it]\n"
     ]
    },
    {
     "data": {
      "text/plain": [
       "(0.9580555555555555, 0.17001804892431227)"
      ]
     },
     "execution_count": 14,
     "metadata": {},
     "output_type": "execute_result"
    }
   ],
   "source": [
    "evaluate(model, val_dl)"
   ]
  },
  {
   "cell_type": "code",
   "execution_count": 15,
   "id": "0d1132df-17db-4f10-909f-6530f8ec365e",
   "metadata": {},
   "outputs": [
    {
     "data": {
      "image/png": "[encoded data removed]",
      "text/plain": [
       "<Figure size 1800x600 with 1 Axes>"
      ]
     },
     "metadata": {},
     "output_type": "display_data"
    }
   ],
   "source": [
    "import matplotlib.pyplot as plt\n",
    "plt.figure(figsize=(18,6))\n",
    "plt.plot(range(len(losses)), losses, '-o', range(len(val_losses)), val_losses, '-^')\n",
    "plt.legend(['Training Loss', 'Validation Loss'])\n",
    "plt.savefig('base.png')\n",
    "plt.show()"
   ]
  },
  {
   "cell_type": "code",
   "execution_count": 16,
   "id": "9e49a31e-dd46-4bbd-9be8-821d758a2050",
   "metadata": {},
   "outputs": [
    {
     "name": "stderr",
     "output_type": "stream",
     "text": [
      "100%|█████████████████████████████████████████████████████████████████████████████████████████████████████████████████████████████████████████████████████| 75/75 [01:50<00:00,  1.47s/it]"
     ]
    },
    {
     "name": "stdout",
     "output_type": "stream",
     "text": [
      "Test accuacy: 0.95, Test loss: 0.193\n"
     ]
    },
    {
     "name": "stderr",
     "output_type": "stream",
     "text": [
      "\n"
     ]
    }
   ],
   "source": [
    "acc, loss = evaluate(model, test_dl)\n",
    "print(\"Test accuacy: %.2f, Test loss: %.3f\" % (acc, loss))"
   ]
  }
 ],
 "metadata": {
  "kernelspec": {
   "display_name": "Python 3 (ipykernel)",
   "language": "python",
   "name": "python3"
  },
  "language_info": {
   "codemirror_mode": {
    "name": "ipython",
    "version": 3
   },
   "file_extension": ".py",
   "mimetype": "text/x-python",
   "name": "python",
   "nbconvert_exporter": "python",
   "pygments_lexer": "ipython3",
   "version": "3.8.13"
  }
 },
 "nbformat": 4,
 "nbformat_minor": 5
}
